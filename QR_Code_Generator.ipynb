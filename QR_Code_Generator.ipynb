{
  "nbformat": 4,
  "nbformat_minor": 0,
  "metadata": {
    "colab": {
      "provenance": [],
      "include_colab_link": true
    },
    "kernelspec": {
      "name": "python3",
      "display_name": "Python 3"
    },
    "language_info": {
      "name": "python"
    }
  },
  "cells": [
    {
      "cell_type": "markdown",
      "metadata": {
        "id": "view-in-github",
        "colab_type": "text"
      },
      "source": [
        "<a href=\"https://colab.research.google.com/github/Arshnoor7/Mini-Project-QR-Code-Generator/blob/main/QR_Code_Generator.ipynb\" target=\"_parent\"><img src=\"https://colab.research.google.com/assets/colab-badge.svg\" alt=\"Open In Colab\"/></a>"
      ]
    },
    {
      "cell_type": "code",
      "execution_count": 1,
      "metadata": {
        "id": "GV3tYINlbjYx",
        "colab": {
          "base_uri": "https://localhost:8080/"
        },
        "outputId": "a57301cb-1c45-4c7a-a7d0-9b6b6f9a1be0"
      },
      "outputs": [
        {
          "output_type": "stream",
          "name": "stdout",
          "text": [
            "Looking in indexes: https://pypi.org/simple, https://us-python.pkg.dev/colab-wheels/public/simple/\n",
            "Collecting pyqrcode\n",
            "  Downloading PyQRCode-1.2.1.zip (41 kB)\n",
            "\u001b[2K     \u001b[90m━━━━━━━━━━━━━━━━━━━━━━━━━━━━━━━━━━━━━━━━\u001b[0m \u001b[32m41.9/41.9 kB\u001b[0m \u001b[31m2.5 MB/s\u001b[0m eta \u001b[36m0:00:00\u001b[0m\n",
            "\u001b[?25h  Preparing metadata (setup.py) ... \u001b[?25l\u001b[?25hdone\n",
            "Collecting pypng\n",
            "  Downloading pypng-0.20220715.0-py3-none-any.whl (58 kB)\n",
            "\u001b[2K     \u001b[90m━━━━━━━━━━━━━━━━━━━━━━━━━━━━━━━━━━━━━━━━\u001b[0m \u001b[32m58.1/58.1 kB\u001b[0m \u001b[31m6.0 MB/s\u001b[0m eta \u001b[36m0:00:00\u001b[0m\n",
            "\u001b[?25hBuilding wheels for collected packages: pyqrcode\n",
            "  Building wheel for pyqrcode (setup.py) ... \u001b[?25l\u001b[?25hdone\n",
            "  Created wheel for pyqrcode: filename=PyQRCode-1.2.1-py3-none-any.whl size=36228 sha256=d038b4d891602cbb434880626f25c14bfc55524fc07bf76a929f5d9d1cf006d5\n",
            "  Stored in directory: /root/.cache/pip/wheels/34/2d/20/082874e49a32cdcc87ebaf99dd0099fb7774ef30f010dfb6f2\n",
            "Successfully built pyqrcode\n",
            "Installing collected packages: pyqrcode, pypng\n",
            "Successfully installed pypng-0.20220715.0 pyqrcode-1.2.1\n"
          ]
        }
      ],
      "source": [
        "!pip install pyqrcode pypng"
      ]
    },
    {
      "cell_type": "code",
      "source": [
        "'''\n",
        "Python Program to Generate QR Code\n",
        "'''\n",
        "\n",
        "# Import the necessary module!\n",
        "import pyqrcode\n",
        "\n",
        "# Define the data:\n",
        "# We need some text that we want to convert as our QR Code. \n",
        "# Since I am creating the QR Code for my github profile, \n",
        "# I will \"https://github.com/Arshnoor7\" as data here. Let's store inside a variable.\n",
        "data = \"https://github.com/Arshnoor7\"\n",
        "\n",
        "# Create qrcode:\n",
        "# Now that we have the data with us, we can move forward and \n",
        "# make use of the package we just imported. Let's create an variable.\n",
        "# We will use the create method (as it results in a cleaner looking code) on data.\n",
        "qr = pyqrcode.create(data)\n",
        "\n",
        "# Save the qrcode in png format with proper scaling:\n",
        "# Now let's store it in .png format with proper scaling.\n",
        "qr.png(\"githubID.png\", scale= 5)"
      ],
      "metadata": {
        "id": "M9SkWl8Mblkl"
      },
      "execution_count": 3,
      "outputs": []
    }
  ]
}